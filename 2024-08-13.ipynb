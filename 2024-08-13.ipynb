{
 "cells": [
  {
   "cell_type": "markdown",
   "metadata": {},
   "source": [
    "# Lista de Exercícios sobre Dicionários"
   ]
  },
  {
   "cell_type": "markdown",
   "metadata": {},
   "source": [
    "## 1. Contagem de Palavras\n",
    "Escreva uma função que receba uma string e retorne um dicionário onde as chaves são as palavras e os valores são o número de ocorrências dessas palavras."
   ]
  },
  {
   "cell_type": "code",
   "execution_count": 1,
   "metadata": {},
   "outputs": [],
   "source": [
    "# Solução\n",
    "from collections import default\n",
    "\n",
    "\n",
    "def contagem_de_palavras(texto: str) -> dict[str]:\n",
    "    frase_limpa = \"\"\n",
    "    for char in frase:\n",
    "        char = char.lower()\n",
    "        if char.isalnum() or char.isspace():\n",
    "            frase_limpa += char\n",
    "    palavras = frase_limpa.split()\n",
    "    contagem = {}\n",
    "    for palavra in palavras:\n",
    "        contagem[palavra] = contagem.get(palavra, 0) + 1\n",
    "        # if palavra in contagem_de_palavras:\n",
    "        #     contagem_de_palavras[palavra] += 1\n",
    "        # else:\n",
    "        #     contagem_de_palavras[palavra] = 1\n",
    "    return contagem\n",
    "\n",
    "texto = input(\"Digite uma frase: \")\n",
    "contagem_de_palavras(texto)\n"
   ]
  },
  {
   "cell_type": "markdown",
   "metadata": {},
   "source": [
    "## 2. Filtro de Dicionário\n",
    "Escreva uma função que receba um dicionário e uma lista de chaves. A função deve retornar um novo dicionário contendo apenas as chaves fornecidas na lista.\n"
   ]
  },
  {
   "cell_type": "code",
   "execution_count": 2,
   "metadata": {},
   "outputs": [],
   "source": [
    "# Solução"
   ]
  },
  {
   "cell_type": "markdown",
   "metadata": {},
   "source": [
    "## 3. Agrupamento por Valor\n",
    "Dado uma lista de tuplas, onde cada tupla contém dois elementos (chave, valor), escreva uma função que agrupe as tuplas em um dicionário onde as chaves sejam os valores e os valores sejam listas das chaves correspondentes.\n"
   ]
  },
  {
   "cell_type": "code",
   "execution_count": 3,
   "metadata": {},
   "outputs": [],
   "source": [
    "# Solução"
   ]
  },
  {
   "cell_type": "markdown",
   "metadata": {},
   "source": [
    "## 4. Dicionário de Frequências\n",
    "Dado uma lista de inteiros, escreva uma função que retorne um dicionário onde as chaves são os inteiros e os valores são a frequência de cada inteiro na lista.\n"
   ]
  },
  {
   "cell_type": "code",
   "execution_count": 4,
   "metadata": {},
   "outputs": [],
   "source": [
    "# Solução"
   ]
  },
  {
   "cell_type": "markdown",
   "metadata": {},
   "source": [
    "## 5. Inversão de Dicionário\n",
    "Escreva uma função que inverta um dicionário, trocando as chaves pelos valores. Se houver valores repetidos no dicionário original, combine as chaves correspondentes em uma lista."
   ]
  },
  {
   "cell_type": "code",
   "execution_count": 5,
   "metadata": {},
   "outputs": [],
   "source": [
    "# Solução"
   ]
  },
  {
   "cell_type": "markdown",
   "metadata": {},
   "source": [
    "## 6. Mapeamento de Strings\n",
    "Dado duas strings de igual comprimento, escreva uma função que crie um dicionário mapeando os caracteres da primeira string para os caracteres correspondentes da segunda string."
   ]
  },
  {
   "cell_type": "code",
   "execution_count": 6,
   "metadata": {},
   "outputs": [],
   "source": [
    "# Solução"
   ]
  },
  {
   "cell_type": "markdown",
   "metadata": {},
   "source": [
    "## 7. Junção de Dicionários\n",
    "Escreva uma função que receba dois dicionários e retorne um novo dicionário que seja a junção dos dois. Se uma chave existir em ambos os dicionários, o valor resultante deve ser a soma dos valores correspondentes."
   ]
  },
  {
   "cell_type": "code",
   "execution_count": 7,
   "metadata": {},
   "outputs": [],
   "source": [
    "# Solução"
   ]
  },
  {
   "cell_type": "markdown",
   "metadata": {},
   "source": [
    "## 8. Análise de Sentimentos\n",
    "Dado um texto, escreva uma função que analise a frequência de palavras positivas e negativas com base em dois dicionários predefinidos (um para palavras positivas e outro para palavras negativas).\n"
   ]
  },
  {
   "cell_type": "code",
   "execution_count": 8,
   "metadata": {},
   "outputs": [],
   "source": [
    "# Solução"
   ]
  },
  {
   "cell_type": "markdown",
   "metadata": {},
   "source": [
    "## 9. Histograma de Letras\n",
    "Escreva uma função que receba uma string e retorne um dicionário onde as chaves são as letras e os valores são listas de índices onde essas letras aparecem na string."
   ]
  },
  {
   "cell_type": "code",
   "execution_count": 9,
   "metadata": {},
   "outputs": [],
   "source": [
    "# Solução"
   ]
  },
  {
   "cell_type": "markdown",
   "metadata": {},
   "source": [
    "## 10. Dicionário de Prefixos\n",
    "Dado uma lista de strings, escreva uma função que retorne um dicionário onde as chaves são os prefixos das strings de comprimento 3 e os valores são listas das strings correspondentes.\n"
   ]
  },
  {
   "cell_type": "code",
   "execution_count": 10,
   "metadata": {},
   "outputs": [],
   "source": [
    "# Solução"
   ]
  },
  {
   "cell_type": "markdown",
   "metadata": {},
   "source": [
    "## 11. Transformação de Dicionário\n",
    "Escreva uma função que receba um dicionário onde os valores são listas de números. A função deve retornar um novo dicionário onde os valores são a média aritmética dos números em cada lista.\n"
   ]
  },
  {
   "cell_type": "code",
   "execution_count": 11,
   "metadata": {},
   "outputs": [],
   "source": [
    "# Solução"
   ]
  },
  {
   "cell_type": "markdown",
   "metadata": {},
   "source": [
    "## 12. Unindo Listas de Dicionários\n",
    "Dado duas listas de dicionários, escreva uma função que una os dicionários com base em uma chave comum. Se a chave existir em ambos os dicionários, combine os valores em uma lista."
   ]
  },
  {
   "cell_type": "code",
   "execution_count": 12,
   "metadata": {},
   "outputs": [],
   "source": [
    "# Solução"
   ]
  },
  {
   "cell_type": "markdown",
   "metadata": {},
   "source": [
    "## 13. Contagem de Pares\n",
    "Dado uma lista de inteiros, escreva uma função que retorne um dicionário onde as chaves são as diferenças entre os pares de inteiros e os valores são a contagem de quantas vezes cada diferença aparece."
   ]
  },
  {
   "cell_type": "code",
   "execution_count": 13,
   "metadata": {},
   "outputs": [],
   "source": [
    "# Solução"
   ]
  },
  {
   "cell_type": "markdown",
   "metadata": {},
   "source": [
    "## 14. Histograma\n",
    "Escreva uma função que receba uma lista de números e retorne um dicionário com 10 chaves representando intervalos igualmente espaçados que cubram o intervalo total dos números. Os valores do dicionário devem ser a contagem de quantos números caem em cada intervalo.\n"
   ]
  },
  {
   "cell_type": "code",
   "execution_count": 14,
   "metadata": {},
   "outputs": [],
   "source": [
    "# Solução"
   ]
  },
  {
   "cell_type": "markdown",
   "metadata": {},
   "source": [
    "## 15. Substituição de Palavras\n",
    "Escreva uma função que receba um texto e um dicionário de substituição onde as chaves são palavras a serem substituídas e os valores são as palavras substitutas. A função deve retornar o texto com todas as substituições realizadas."
   ]
  },
  {
   "cell_type": "code",
   "execution_count": 15,
   "metadata": {},
   "outputs": [],
   "source": [
    "# Solução"
   ]
  },
  {
   "cell_type": "markdown",
   "metadata": {},
   "source": [
    "## 16. Dicionário de Combinações\n",
    "Dado um dicionário onde os valores são listas, escreva uma função que retorne uma lista de todas as combinações possíveis dos elementos dessas listas.\n"
   ]
  },
  {
   "cell_type": "code",
   "execution_count": 16,
   "metadata": {},
   "outputs": [],
   "source": [
    "# Solução"
   ]
  },
  {
   "cell_type": "markdown",
   "metadata": {},
   "source": [
    "## 17. Dicionário de Funções\n",
    "Escreva uma função que receba um dicionário onde as chaves são nomes de funções (como strings) e os valores são listas de argumentos. A função deve executar cada função com os argumentos fornecidos e retornar um dicionário com os resultados.\n"
   ]
  },
  {
   "cell_type": "code",
   "execution_count": 17,
   "metadata": {},
   "outputs": [],
   "source": [
    "# Solução"
   ]
  },
  {
   "cell_type": "markdown",
   "metadata": {},
   "source": [
    "## 18. Mapeamento de Elementos Únicos\n",
    "Dado duas listas, escreva uma função que crie um dicionário onde as chaves são os elementos únicos da primeira lista e os valores são as listas de índices onde esses elementos aparecem na segunda lista.\n"
   ]
  },
  {
   "cell_type": "code",
   "execution_count": 18,
   "metadata": {},
   "outputs": [],
   "source": [
    "# Solução"
   ]
  },
  {
   "cell_type": "markdown",
   "metadata": {},
   "source": [
    "## 19. Filtrando por Critério\n",
    "Dado um dicionário de produtos com seus respectivos preços, escreva uma função que retorne um novo dicionário filtrando os produtos que estão dentro de um intervalo de preço fornecido.\n"
   ]
  },
  {
   "cell_type": "code",
   "execution_count": 19,
   "metadata": {},
   "outputs": [],
   "source": [
    "# Solução"
   ]
  }
 ],
 "metadata": {
  "kernelspec": {
   "display_name": ".venv",
   "language": "python",
   "name": "python3"
  },
  "language_info": {
   "codemirror_mode": {
    "name": "ipython",
    "version": 3
   },
   "file_extension": ".py",
   "mimetype": "text/x-python",
   "name": "python",
   "nbconvert_exporter": "python",
   "pygments_lexer": "ipython3",
   "version": "3.11.9"
  }
 },
 "nbformat": 4,
 "nbformat_minor": 2
}
