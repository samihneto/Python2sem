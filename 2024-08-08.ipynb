{
 "cells": [
  {
   "cell_type": "markdown",
   "id": "bea821ba",
   "metadata": {},
   "source": [
    "## 1. Introdução aos Dicionários\n"
   ]
  },
  {
   "cell_type": "markdown",
   "id": "c039b8ad",
   "metadata": {},
   "source": [
    "- O que são dicionários?\n",
    "  - Estruturas de dados que armazenam pares de chave-valor.\n",
    "  - Sintaxe básica: {chave: valor}\n",
    "- Comparação com listas e tuplas:\n",
    "  - Acesso aos valores através de chaves, não índices."
   ]
  },
  {
   "cell_type": "code",
   "execution_count": 1,
   "id": "ed6e5f3e",
   "metadata": {},
   "outputs": [],
   "source": [
    "aluno = {\n",
    "    \"nome\": \"João\",\n",
    "    \"idade\": 20,\n",
    "    \"curso\": \"Engenharia\",\n",
    "}"
   ]
  },
  {
   "cell_type": "markdown",
   "id": "3df1264c",
   "metadata": {},
   "source": [
    "## 2. Operações Básicas"
   ]
  },
  {
   "cell_type": "markdown",
   "id": "6ceeea3e",
   "metadata": {},
   "source": [
    "- Acessar valores:"
   ]
  },
  {
   "cell_type": "code",
   "execution_count": 2,
   "id": "449b2ea9",
   "metadata": {},
   "outputs": [
    {
     "data": {
      "text/plain": [
       "20"
      ]
     },
     "execution_count": 2,
     "metadata": {},
     "output_type": "execute_result"
    }
   ],
   "source": [
    "aluno[\"idade\"]"
   ]
  },
  {
   "cell_type": "markdown",
   "id": "aeaf7d68",
   "metadata": {},
   "source": [
    "- Adicionando e modificando valores:"
   ]
  },
  {
   "cell_type": "code",
   "execution_count": 3,
   "id": "382e9cab",
   "metadata": {},
   "outputs": [],
   "source": [
    "aluno[\"idade\"] = 21  # altera o valor da chave \"idade\"\n",
    "aluno[\"nota\"] = 9.5  # adiciona uma nova chave \"nota\""
   ]
  },
  {
   "cell_type": "code",
   "execution_count": 4,
   "id": "aad3b0e2",
   "metadata": {},
   "outputs": [
    {
     "data": {
      "text/plain": [
       "{'nome': 'João', 'idade': 21, 'curso': 'Engenharia', 'nota': 9.5}"
      ]
     },
     "execution_count": 4,
     "metadata": {},
     "output_type": "execute_result"
    }
   ],
   "source": [
    "aluno"
   ]
  },
  {
   "cell_type": "markdown",
   "id": "e1acf754",
   "metadata": {},
   "source": [
    "- Removendo valores:"
   ]
  },
  {
   "cell_type": "code",
   "execution_count": 5,
   "id": "fb7bb0c6",
   "metadata": {},
   "outputs": [],
   "source": [
    "# del é um comando do Python que remove elementos da memória.\n",
    "# No caso de dicionários, ele remove a chave e o valor associado a ela.\n",
    "del aluno[\"nota\"]"
   ]
  },
  {
   "cell_type": "code",
   "execution_count": 6,
   "id": "95bc0dc3",
   "metadata": {},
   "outputs": [
    {
     "data": {
      "text/plain": [
       "{'nome': 'João', 'idade': 21, 'curso': 'Engenharia'}"
      ]
     },
     "execution_count": 6,
     "metadata": {},
     "output_type": "execute_result"
    }
   ],
   "source": [
    "aluno"
   ]
  },
  {
   "cell_type": "markdown",
   "id": "628b73c2",
   "metadata": {},
   "source": [
    "- Métodos comuns em dicionários:"
   ]
  },
  {
   "cell_type": "code",
   "execution_count": 7,
   "id": "8552c4a9",
   "metadata": {},
   "outputs": [
    {
     "data": {
      "text/plain": [
       "dict_keys(['nome', 'idade', 'curso'])"
      ]
     },
     "execution_count": 7,
     "metadata": {},
     "output_type": "execute_result"
    }
   ],
   "source": [
    "aluno.keys()  # retorna as chaves do dicionário"
   ]
  },
  {
   "cell_type": "code",
   "execution_count": 8,
   "id": "881e7c0e",
   "metadata": {},
   "outputs": [
    {
     "data": {
      "text/plain": [
       "dict_keys"
      ]
     },
     "execution_count": 8,
     "metadata": {},
     "output_type": "execute_result"
    }
   ],
   "source": [
    "type(\n",
    "    aluno.keys()\n",
    ")  # dict_keys é uma estrutura para armazenar chaves de dicionários, não sendo necessariamente uma lista"
   ]
  },
  {
   "cell_type": "code",
   "execution_count": 9,
   "id": "2b7e8916",
   "metadata": {},
   "outputs": [
    {
     "data": {
      "text/plain": [
       "dict_values(['João', 21, 'Engenharia'])"
      ]
     },
     "execution_count": 9,
     "metadata": {},
     "output_type": "execute_result"
    }
   ],
   "source": [
    "aluno.values()  # retorna os valores do dicionário"
   ]
  },
  {
   "cell_type": "code",
   "execution_count": 10,
   "id": "761b8d9e",
   "metadata": {},
   "outputs": [
    {
     "data": {
      "text/plain": [
       "dict_items([('nome', 'João'), ('idade', 21), ('curso', 'Engenharia')])"
      ]
     },
     "execution_count": 10,
     "metadata": {},
     "output_type": "execute_result"
    }
   ],
   "source": [
    "aluno.items()  # retorna os pares chave-valor do dicionário"
   ]
  },
  {
   "cell_type": "markdown",
   "id": "7f2b0e79",
   "metadata": {},
   "source": [
    "## 3. Iterando sobre Dicionários"
   ]
  },
  {
   "cell_type": "markdown",
   "id": "de808cfd",
   "metadata": {},
   "source": [
    "- Iterando sobre chaves:"
   ]
  },
  {
   "cell_type": "code",
   "execution_count": 11,
   "id": "f0aeb683",
   "metadata": {},
   "outputs": [
    {
     "name": "stdout",
     "output_type": "stream",
     "text": [
      "nome\n",
      "idade\n",
      "curso\n"
     ]
    }
   ],
   "source": [
    "for key in aluno.keys():\n",
    "    print(key)"
   ]
  },
  {
   "cell_type": "code",
   "execution_count": 12,
   "id": "da367fde",
   "metadata": {},
   "outputs": [
    {
     "name": "stdout",
     "output_type": "stream",
     "text": [
      "Chave 0: nome\n",
      "Chave 1: idade\n",
      "Chave 2: curso\n"
     ]
    }
   ],
   "source": [
    "for i, key in enumerate(aluno.keys()):\n",
    "    print(f\"Chave {i}: {key}\")"
   ]
  },
  {
   "cell_type": "markdown",
   "id": "7ea1ce6a",
   "metadata": {},
   "source": [
    "- Iterando sobre valores:"
   ]
  },
  {
   "cell_type": "code",
   "execution_count": 13,
   "id": "5b9c2ef5",
   "metadata": {},
   "outputs": [
    {
     "name": "stdout",
     "output_type": "stream",
     "text": [
      "João\n",
      "21\n",
      "Engenharia\n"
     ]
    }
   ],
   "source": [
    "for value in aluno.values():\n",
    "    print(value)"
   ]
  },
  {
   "cell_type": "markdown",
   "id": "869736fc",
   "metadata": {},
   "source": [
    "- Iterando sobre chaves e valores:"
   ]
  },
  {
   "cell_type": "code",
   "execution_count": 14,
   "id": "1bf4e6be",
   "metadata": {},
   "outputs": [
    {
     "name": "stdout",
     "output_type": "stream",
     "text": [
      "nome: João\n",
      "idade: 21\n",
      "curso: Engenharia\n"
     ]
    }
   ],
   "source": [
    "for key, value in zip(aluno.keys(), aluno.values()):\n",
    "    print(f\"{key}: {value}\")"
   ]
  },
  {
   "cell_type": "code",
   "execution_count": 15,
   "id": "e75531d7",
   "metadata": {},
   "outputs": [
    {
     "name": "stdout",
     "output_type": "stream",
     "text": [
      "nome: João\n",
      "idade: 21\n",
      "curso: Engenharia\n"
     ]
    }
   ],
   "source": [
    "for key, value in aluno.items():\n",
    "    print(f\"{key}: {value}\")"
   ]
  },
  {
   "cell_type": "markdown",
   "id": "d50f43ca",
   "metadata": {},
   "source": [
    "## 4. Métodos avançados de Dicionários"
   ]
  },
  {
   "cell_type": "markdown",
   "id": "1c17a39a",
   "metadata": {},
   "source": [
    "- Método get():"
   ]
  },
  {
   "cell_type": "code",
   "execution_count": 16,
   "id": "c759e593",
   "metadata": {},
   "outputs": [
    {
     "data": {
      "text/plain": [
       "'João'"
      ]
     },
     "execution_count": 16,
     "metadata": {},
     "output_type": "execute_result"
    }
   ],
   "source": [
    "# Similar a aluno[\"nome\"]\n",
    "aluno.get(\"nome\")  # retorna o valor associado à chave \"nome\""
   ]
  },
  {
   "cell_type": "code",
   "execution_count": 17,
   "id": "9b7597e3",
   "metadata": {},
   "outputs": [
    {
     "data": {
      "text/plain": [
       "'Endereço não informado'"
      ]
     },
     "execution_count": 17,
     "metadata": {},
     "output_type": "execute_result"
    }
   ],
   "source": [
    "# aluno[\"endereço\"]  # KeyError: 'endereço'\n",
    "\n",
    "\n",
    "# retorna o valor associado à chave \"endereço\" ou \"Não informado\" se a chave não existir\n",
    "aluno.get(\"endereço\", \"Endereço não informado\")"
   ]
  },
  {
   "cell_type": "markdown",
   "id": "5110a2a5",
   "metadata": {},
   "source": [
    "- Método setdefault():"
   ]
  },
  {
   "cell_type": "code",
   "execution_count": 18,
   "id": "1910d57b",
   "metadata": {},
   "outputs": [
    {
     "data": {
      "text/plain": [
       "'Rua X, 123'"
      ]
     },
     "execution_count": 18,
     "metadata": {},
     "output_type": "execute_result"
    }
   ],
   "source": [
    "aluno.setdefault(\n",
    "    \"endereço\", \"Rua X, 123\"\n",
    ")  # adiciona a chave \"endereço\" com o valor \"Rua X, 123\""
   ]
  },
  {
   "cell_type": "code",
   "execution_count": 19,
   "id": "b5b863e4",
   "metadata": {},
   "outputs": [
    {
     "data": {
      "text/plain": [
       "{'nome': 'João', 'idade': 21, 'curso': 'Engenharia', 'endereço': 'Rua X, 123'}"
      ]
     },
     "execution_count": 19,
     "metadata": {},
     "output_type": "execute_result"
    }
   ],
   "source": [
    "aluno"
   ]
  },
  {
   "cell_type": "code",
   "execution_count": 20,
   "id": "ad1411d9",
   "metadata": {},
   "outputs": [
    {
     "data": {
      "text/plain": [
       "'João'"
      ]
     },
     "execution_count": 20,
     "metadata": {},
     "output_type": "execute_result"
    }
   ],
   "source": [
    "aluno.setdefault(\"nome\", \"Não Informado\")  # não altera o valor da chave \"nome\""
   ]
  },
  {
   "cell_type": "code",
   "execution_count": 21,
   "id": "e8f9a72d",
   "metadata": {},
   "outputs": [
    {
     "data": {
      "text/plain": [
       "{'nome': 'João', 'idade': 21, 'curso': 'Engenharia', 'endereço': 'Rua X, 123'}"
      ]
     },
     "execution_count": 21,
     "metadata": {},
     "output_type": "execute_result"
    }
   ],
   "source": [
    "aluno"
   ]
  },
  {
   "cell_type": "markdown",
   "id": "b16d5861",
   "metadata": {},
   "source": [
    "- Método update():"
   ]
  },
  {
   "cell_type": "markdown",
   "id": "1c941b9c",
   "metadata": {},
   "source": [
    "É necessário se atentar ao fato de que o método `.update()` pode modificar os dados já existentes no dicionário."
   ]
  },
  {
   "cell_type": "code",
   "execution_count": 22,
   "id": "7e9b70e6",
   "metadata": {},
   "outputs": [],
   "source": [
    "dados_adicionais = {\"endereço\": \"Rua Y, 456\", \"telefone\": \"1234-5678\"}\n",
    "\n",
    "# adiciona as chaves e valores do dicionário dados_adicionais ao dicionário aluno\n",
    "aluno.update(dados_adicionais)"
   ]
  },
  {
   "cell_type": "code",
   "execution_count": 23,
   "id": "a88d8564",
   "metadata": {},
   "outputs": [
    {
     "data": {
      "text/plain": [
       "{'nome': 'João',\n",
       " 'idade': 21,\n",
       " 'curso': 'Engenharia',\n",
       " 'endereço': 'Rua Y, 456',\n",
       " 'telefone': '1234-5678'}"
      ]
     },
     "execution_count": 23,
     "metadata": {},
     "output_type": "execute_result"
    }
   ],
   "source": [
    "aluno"
   ]
  },
  {
   "cell_type": "markdown",
   "id": "e6ecbb96",
   "metadata": {},
   "source": [
    "- Compreensão de dicionários:"
   ]
  },
  {
   "cell_type": "code",
   "execution_count": 24,
   "id": "8b00de15",
   "metadata": {},
   "outputs": [
    {
     "data": {
      "text/plain": [
       "{0: 0, 1: 1, 2: 4, 3: 9, 4: 16, 5: 25, 6: 36, 7: 49, 8: 64, 9: 81}"
      ]
     },
     "execution_count": 24,
     "metadata": {},
     "output_type": "execute_result"
    }
   ],
   "source": [
    "quadrados = {x: x**2 for x in range(10)}\n",
    "quadrados"
   ]
  },
  {
   "cell_type": "code",
   "execution_count": 25,
   "id": "7b4d046c",
   "metadata": {},
   "outputs": [
    {
     "data": {
      "text/plain": [
       "[(0, 0),\n",
       " (1, 1),\n",
       " (2, 4),\n",
       " (3, 9),\n",
       " (4, 16),\n",
       " (5, 25),\n",
       " (6, 36),\n",
       " (7, 49),\n",
       " (8, 64),\n",
       " (9, 81)]"
      ]
     },
     "execution_count": 25,
     "metadata": {},
     "output_type": "execute_result"
    }
   ],
   "source": [
    "lista_de_quadrados = [(x, x**2) for x in range(10)]\n",
    "lista_de_quadrados"
   ]
  },
  {
   "cell_type": "code",
   "execution_count": 26,
   "id": "c7b1e484",
   "metadata": {},
   "outputs": [
    {
     "name": "stdout",
     "output_type": "stream",
     "text": [
      "(5, 25)\n"
     ]
    }
   ],
   "source": [
    "# acessar o elemento que contém o quadrado do número 5\n",
    "i = 5\n",
    "for x, x2 in lista_de_quadrados:\n",
    "    if x == i:\n",
    "        print((x, x2))\n",
    "        break"
   ]
  },
  {
   "cell_type": "code",
   "execution_count": 27,
   "id": "12be20d3",
   "metadata": {},
   "outputs": [
    {
     "data": {
      "text/plain": [
       "(5, 25)"
      ]
     },
     "execution_count": 27,
     "metadata": {},
     "output_type": "execute_result"
    }
   ],
   "source": [
    "# em comparação, em dicionários o acesso é direto\n",
    "(i, quadrados[i])"
   ]
  },
  {
   "cell_type": "markdown",
   "id": "ad4b4a2a",
   "metadata": {},
   "source": [
    "## 5. Aplicação em processamento de texto (NLP)"
   ]
  },
  {
   "cell_type": "markdown",
   "id": "3c8b6f24",
   "metadata": {},
   "source": [
    "Vamos criar um dicionário para armazenar a **contagem** de palavras em um texto.\n"
   ]
  },
  {
   "cell_type": "code",
   "execution_count": 28,
   "id": "057b200e",
   "metadata": {},
   "outputs": [],
   "source": [
    "def limpa_texto(texto: str) -> str:\n",
    "    # versão alternativa para limpar caracteres especiais\n",
    "    # texto = \"\".join(\n",
    "    #     letra if letra.isalnum() or letra in (\" \", \"-\") for letra in texto\n",
    "    # )\n",
    "\n",
    "    # Limpar caracteres especiais, permitindo apenas letras, números, espaços e hífens\n",
    "    novo_texto = \"\"\n",
    "    for letra in texto:\n",
    "        if letra.isalnum() or letra in (\" \", \"-\"):\n",
    "            novo_texto += letra\n",
    "    return novo_texto\n",
    "\n",
    "\n",
    "def conta_palavras(texto: str) -> dict[str, int]:\n",
    "    # transformar o texto para minúsculas\n",
    "    texto = texto.lower()\n",
    "\n",
    "    # Limpar caracteres especiais, permitindo apenas letras, números, espaços e hífens\n",
    "    texto = limpa_texto(texto)\n",
    "\n",
    "    # divide o texto em palavras,\n",
    "    # utilizando o critério de espaços em branco\n",
    "    # em que uma palavra é uma sequência de caracteres sem espaços\n",
    "    palavras = texto.split()\n",
    "\n",
    "    contagem = {}\n",
    "    for palavra in palavras:\n",
    "        # não é possível acessar a chave palavra diretamente,\n",
    "        # pois ela pode não existir\n",
    "        # contagem[palavra] += 1\n",
    "        contagem[palavra] = contagem.get(palavra, 0) + 1\n",
    "    return contagem"
   ]
  },
  {
   "cell_type": "code",
   "execution_count": 29,
   "id": "4a5c31d0",
   "metadata": {},
   "outputs": [
    {
     "data": {
      "text/plain": [
       "{'python': 5,\n",
       " 'é': 4,\n",
       " 'uma': 9,\n",
       " 'linguagem': 3,\n",
       " 'de': 15,\n",
       " 'programação': 4,\n",
       " 'alto': 1,\n",
       " 'nível': 1,\n",
       " 'interpretada': 1,\n",
       " 'script': 1,\n",
       " 'imperativa': 1,\n",
       " 'orientada': 2,\n",
       " 'a': 9,\n",
       " 'objetos': 2,\n",
       " 'funcional': 2,\n",
       " 'tipagem': 1,\n",
       " 'dinâmica': 1,\n",
       " 'e': 13,\n",
       " 'forte': 1,\n",
       " 'foi': 1,\n",
       " 'lançada': 1,\n",
       " 'por': 2,\n",
       " 'guido': 1,\n",
       " 'van': 1,\n",
       " 'rossum': 1,\n",
       " 'em': 2,\n",
       " '1991': 1,\n",
       " 'conhecida': 1,\n",
       " 'sua': 3,\n",
       " 'sintaxe': 1,\n",
       " 'clara': 1,\n",
       " 'legível': 1,\n",
       " 'o': 3,\n",
       " 'que': 3,\n",
       " 'torna': 1,\n",
       " 'excelente': 1,\n",
       " 'escolha': 1,\n",
       " 'para': 1,\n",
       " 'iniciantes': 1,\n",
       " 'profissionais': 1,\n",
       " 'suporta': 1,\n",
       " 'múltiplos': 1,\n",
       " 'paradigmas': 1,\n",
       " 'incluindo': 1,\n",
       " 'procedural': 1,\n",
       " 'além': 1,\n",
       " 'disso': 1,\n",
       " 'possui': 1,\n",
       " 'vasta': 1,\n",
       " 'biblioteca': 1,\n",
       " 'padrão': 1,\n",
       " 'comunidade': 2,\n",
       " 'ativa': 1,\n",
       " 'contribui': 1,\n",
       " 'com': 4,\n",
       " 'infinidade': 1,\n",
       " 'pacotes': 1,\n",
       " 'módulos': 1,\n",
       " 'facilitando': 1,\n",
       " 'desenvolvimento': 2,\n",
       " 'aplicações': 1,\n",
       " 'complexaspython': 1,\n",
       " 'amplamente': 1,\n",
       " 'utilizada': 1,\n",
       " 'diversas': 1,\n",
       " 'áreas': 1,\n",
       " 'como': 2,\n",
       " 'web': 1,\n",
       " 'ciência': 1,\n",
       " 'dados': 1,\n",
       " 'inteligência': 1,\n",
       " 'artificial': 1,\n",
       " 'automação': 1,\n",
       " 'tarefas': 1,\n",
       " 'entre': 1,\n",
       " 'outras': 2,\n",
       " 'popularidade': 1,\n",
       " 'cresceu': 1,\n",
       " 'significativamente': 1,\n",
       " 'nos': 1,\n",
       " 'últimos': 1,\n",
       " 'anos': 1,\n",
       " 'devido': 1,\n",
       " 'à': 1,\n",
       " 'versatilidade': 1,\n",
       " 'facilidade': 1,\n",
       " 'uso': 1,\n",
       " 'compatível': 1,\n",
       " 'diferentes': 1,\n",
       " 'sistemas': 1,\n",
       " 'operacionais': 1,\n",
       " 'windows': 1,\n",
       " 'macos': 1,\n",
       " 'linux': 1,\n",
       " 'pode': 1,\n",
       " 'ser': 2,\n",
       " 'integrada': 1,\n",
       " 'linguagens': 2,\n",
       " 'programaçãoa': 1,\n",
       " 'filosofia': 1,\n",
       " 'do': 3,\n",
       " 'enfatiza': 1,\n",
       " 'legibilidade': 1,\n",
       " 'código': 2,\n",
       " 'simplicidade': 1,\n",
       " 'seguindo': 1,\n",
       " 'princípio': 1,\n",
       " 'há': 1,\n",
       " 'apenas': 1,\n",
       " 'maneira': 1,\n",
       " 'óbvia': 1,\n",
       " 'fazer': 1,\n",
       " 'algo': 1,\n",
       " 'isso': 1,\n",
       " 'ajuda': 1,\n",
       " 'os': 1,\n",
       " 'desenvolvedores': 1,\n",
       " 'escreverem': 1,\n",
       " 'mais': 2,\n",
       " 'limpo': 1,\n",
       " 'eficiente': 1,\n",
       " 'curva': 1,\n",
       " 'aprendizado': 1,\n",
       " 'suave': 1,\n",
       " 'acolhedora': 1,\n",
       " 'continua': 1,\n",
       " 'das': 1,\n",
       " 'populares': 1,\n",
       " 'influentes': 1,\n",
       " 'mundo': 1}"
      ]
     },
     "execution_count": 29,
     "metadata": {},
     "output_type": "execute_result"
    }
   ],
   "source": [
    "texto = \"\"\"\n",
    "Python é uma linguagem de programação de alto nível, interpretada, de script, imperativa, orientada a objetos, funcional, de tipagem dinâmica e forte. Foi lançada por Guido van Rossum em 1991. Python é conhecida por sua sintaxe clara e legível, o que a torna uma excelente escolha para iniciantes e profissionais. A linguagem suporta múltiplos paradigmas de programação, incluindo programação procedural, orientada a objetos e funcional. Além disso, Python possui uma vasta biblioteca padrão e uma comunidade ativa que contribui com uma infinidade de pacotes e módulos, facilitando o desenvolvimento de aplicações complexas.\n",
    "\n",
    "Python é amplamente utilizada em diversas áreas, como desenvolvimento web, ciência de dados, inteligência artificial, automação de tarefas, entre outras. Sua popularidade cresceu significativamente nos últimos anos devido à sua versatilidade e facilidade de uso. A linguagem é compatível com diferentes sistemas operacionais, como Windows, macOS e Linux, e pode ser integrada com outras linguagens de programação.\n",
    "\n",
    "A filosofia do Python enfatiza a legibilidade do código e a simplicidade, seguindo o princípio de que \"há apenas uma maneira óbvia de fazer algo\". Isso ajuda os desenvolvedores a escreverem código mais limpo e eficiente. Com uma curva de aprendizado suave e uma comunidade acolhedora, Python continua a ser uma das linguagens de programação mais populares e influentes do mundo.\n",
    "\"\"\"\n",
    "conta_palavras(texto)"
   ]
  },
  {
   "cell_type": "markdown",
   "id": "48f8133d",
   "metadata": {},
   "source": [
    "## 6. Utilizando `defaultdict` e `Counter` do módulo `collections` "
   ]
  },
  {
   "cell_type": "markdown",
   "id": "64504435",
   "metadata": {},
   "source": [
    "- defaultdict: é um dicionário que atribui um valor padrão a chaves que não existem."
   ]
  },
  {
   "cell_type": "code",
   "execution_count": 30,
   "id": "8d09cfd6",
   "metadata": {},
   "outputs": [],
   "source": [
    "from collections import defaultdict\n",
    "\n",
    "dd = defaultdict(int)"
   ]
  },
  {
   "cell_type": "code",
   "execution_count": 31,
   "id": "24a7e1ae",
   "metadata": {},
   "outputs": [
    {
     "data": {
      "text/plain": [
       "0"
      ]
     },
     "execution_count": 31,
     "metadata": {},
     "output_type": "execute_result"
    }
   ],
   "source": [
    "dd[\"a\"]"
   ]
  },
  {
   "cell_type": "code",
   "execution_count": 32,
   "id": "5705bf14",
   "metadata": {},
   "outputs": [],
   "source": [
    "def conta_palavras_com_defaultdict(texto: str) -> dict[str, int]:\n",
    "    # transformar o texto para minúsculas\n",
    "    texto = texto.lower()\n",
    "\n",
    "    # Limpar caracteres especiais, permitindo apenas letras, números, espaços e hífens\n",
    "    texto = limpa_texto(texto)\n",
    "\n",
    "    # divide o texto em palavras,\n",
    "    # utilizando o critério de espaços em branco\n",
    "    # em que uma palavra é uma sequência de caracteres sem espaços\n",
    "    palavras = texto.split()\n",
    "\n",
    "    contagem = defaultdict(int)\n",
    "    for palavra in palavras:\n",
    "        # como utilizamos o defaultdict,\n",
    "        # não é necessário verificar se a chave existe,\n",
    "        # nem utilizar o método get\n",
    "        contagem[palavra] += 1\n",
    "    return contagem"
   ]
  },
  {
   "cell_type": "code",
   "execution_count": 33,
   "id": "b0323c5b",
   "metadata": {},
   "outputs": [
    {
     "data": {
      "text/plain": [
       "defaultdict(int,\n",
       "            {'python': 6,\n",
       "             'é': 4,\n",
       "             'uma': 9,\n",
       "             'linguagem': 3,\n",
       "             'de': 15,\n",
       "             'programação': 5,\n",
       "             'alto': 1,\n",
       "             'nível': 1,\n",
       "             'interpretada': 1,\n",
       "             'script': 1,\n",
       "             'imperativa': 1,\n",
       "             'orientada': 2,\n",
       "             'a': 10,\n",
       "             'objetos': 2,\n",
       "             'funcional': 2,\n",
       "             'tipagem': 1,\n",
       "             'dinâmica': 1,\n",
       "             'e': 13,\n",
       "             'forte': 1,\n",
       "             'foi': 1,\n",
       "             'lançada': 1,\n",
       "             'por': 2,\n",
       "             'guido': 1,\n",
       "             'van': 1,\n",
       "             'rossum': 1,\n",
       "             'em': 2,\n",
       "             '1991': 1,\n",
       "             'conhecida': 1,\n",
       "             'sua': 3,\n",
       "             'sintaxe': 1,\n",
       "             'clara': 1,\n",
       "             'legível': 1,\n",
       "             'o': 3,\n",
       "             'que': 3,\n",
       "             'torna': 1,\n",
       "             'excelente': 1,\n",
       "             'escolha': 1,\n",
       "             'para': 1,\n",
       "             'iniciantes': 1,\n",
       "             'profissionais': 1,\n",
       "             'suporta': 1,\n",
       "             'múltiplos': 1,\n",
       "             'paradigmas': 1,\n",
       "             'incluindo': 1,\n",
       "             'procedural': 1,\n",
       "             'além': 1,\n",
       "             'disso': 1,\n",
       "             'possui': 1,\n",
       "             'vasta': 1,\n",
       "             'biblioteca': 1,\n",
       "             'padrão': 1,\n",
       "             'comunidade': 2,\n",
       "             'ativa': 1,\n",
       "             'contribui': 1,\n",
       "             'com': 4,\n",
       "             'infinidade': 1,\n",
       "             'pacotes': 1,\n",
       "             'módulos': 1,\n",
       "             'facilitando': 1,\n",
       "             'desenvolvimento': 2,\n",
       "             'aplicações': 1,\n",
       "             'complexas': 1,\n",
       "             'amplamente': 1,\n",
       "             'utilizada': 1,\n",
       "             'diversas': 1,\n",
       "             'áreas': 1,\n",
       "             'como': 2,\n",
       "             'web': 1,\n",
       "             'ciência': 1,\n",
       "             'dados': 1,\n",
       "             'inteligência': 1,\n",
       "             'artificial': 1,\n",
       "             'automação': 1,\n",
       "             'tarefas': 1,\n",
       "             'entre': 1,\n",
       "             'outras': 2,\n",
       "             'popularidade': 1,\n",
       "             'cresceu': 1,\n",
       "             'significativamente': 1,\n",
       "             'nos': 1,\n",
       "             'últimos': 1,\n",
       "             'anos': 1,\n",
       "             'devido': 1,\n",
       "             'à': 1,\n",
       "             'versatilidade': 1,\n",
       "             'facilidade': 1,\n",
       "             'uso': 1,\n",
       "             'compatível': 1,\n",
       "             'diferentes': 1,\n",
       "             'sistemas': 1,\n",
       "             'operacionais': 1,\n",
       "             'windows': 1,\n",
       "             'macos': 1,\n",
       "             'linux': 1,\n",
       "             'pode': 1,\n",
       "             'ser': 2,\n",
       "             'integrada': 1,\n",
       "             'linguagens': 2,\n",
       "             'filosofia': 1,\n",
       "             'do': 3,\n",
       "             'enfatiza': 1,\n",
       "             'legibilidade': 1,\n",
       "             'código': 2,\n",
       "             'simplicidade': 1,\n",
       "             'seguindo': 1,\n",
       "             'princípio': 1,\n",
       "             'há': 1,\n",
       "             'apenas': 1,\n",
       "             'maneira': 1,\n",
       "             'óbvia': 1,\n",
       "             'fazer': 1,\n",
       "             'algo': 1,\n",
       "             'isso': 1,\n",
       "             'ajuda': 1,\n",
       "             'os': 1,\n",
       "             'desenvolvedores': 1,\n",
       "             'escreverem': 1,\n",
       "             'mais': 2,\n",
       "             'limpo': 1,\n",
       "             'eficiente': 1,\n",
       "             'curva': 1,\n",
       "             'aprendizado': 1,\n",
       "             'suave': 1,\n",
       "             'acolhedora': 1,\n",
       "             'continua': 1,\n",
       "             'das': 1,\n",
       "             'populares': 1,\n",
       "             'influentes': 1,\n",
       "             'mundo': 1})"
      ]
     },
     "execution_count": 33,
     "metadata": {},
     "output_type": "execute_result"
    }
   ],
   "source": [
    "texto = \"\"\" Python é uma linguagem de programação de alto nível, interpretada, de script, imperativa, orientada a objetos, funcional, de tipagem dinâmica e forte. Foi lançada por Guido van Rossum em 1991. Python é conhecida por sua sintaxe clara e legível, o que a torna uma excelente escolha para iniciantes e profissionais. A linguagem suporta múltiplos paradigmas de programação, incluindo programação procedural, orientada a objetos e funcional. Além disso, Python possui uma vasta biblioteca padrão e uma comunidade ativa que contribui com uma infinidade de pacotes e módulos, facilitando o desenvolvimento de aplicações complexas. Python é amplamente utilizada em diversas áreas, como desenvolvimento web, ciência de dados, inteligência artificial, automação de tarefas, entre outras. Sua popularidade cresceu significativamente nos últimos anos devido à sua versatilidade e facilidade de uso. A linguagem é compatível com diferentes sistemas operacionais, como Windows, macOS e Linux, e pode ser integrada com outras linguagens de programação. A filosofia do Python enfatiza a legibilidade do código e a simplicidade, seguindo o princípio de que \"há apenas uma maneira óbvia de fazer algo\". Isso ajuda os desenvolvedores a escreverem código mais limpo e eficiente. Com uma curva de aprendizado suave e uma comunidade acolhedora, Python continua a ser uma das linguagens de programação mais populares e influentes do mundo. \"\"\"\n",
    "conta_palavras_com_defaultdict(texto)"
   ]
  },
  {
   "cell_type": "markdown",
   "id": "89c533a6",
   "metadata": {},
   "source": [
    "- Counter: é uma `subclasse` de dicionário que facilita a contagem de objetos."
   ]
  },
  {
   "cell_type": "code",
   "execution_count": 34,
   "id": "bd7a6645",
   "metadata": {},
   "outputs": [
    {
     "data": {
      "text/plain": [
       "Counter({'a': 3, 'b': 2, 'c': 1})"
      ]
     },
     "execution_count": 34,
     "metadata": {},
     "output_type": "execute_result"
    }
   ],
   "source": [
    "from collections import Counter\n",
    "\n",
    "ctn = Counter([\"a\", \"b\", \"a\", \"c\", \"b\", \"a\"])\n",
    "ctn"
   ]
  },
  {
   "cell_type": "code",
   "execution_count": 35,
   "id": "a7a57bac",
   "metadata": {},
   "outputs": [],
   "source": [
    "def conta_palavras_com_counter(texto: str) -> Counter:\n",
    "    # transformar o texto para minúsculas\n",
    "    texto = texto.lower()\n",
    "\n",
    "    # Limpar caracteres especiais, permitindo apenas letras, números, espaços e hífens\n",
    "    texto = limpa_texto(texto)\n",
    "\n",
    "    # divide o texto em palavras,\n",
    "    # utilizando o critério de espaços em branco\n",
    "    # em que uma palavra é uma sequência de caracteres sem espaços\n",
    "    palavras = texto.split()\n",
    "\n",
    "    # não é mais necessário criar um for loop,\n",
    "    # pois o Counter faz isso automaticamente\n",
    "    return Counter(palavras)"
   ]
  },
  {
   "cell_type": "code",
   "execution_count": 36,
   "id": "5bbfc6d1",
   "metadata": {},
   "outputs": [
    {
     "data": {
      "text/plain": [
       "Counter({'de': 15,\n",
       "         'e': 13,\n",
       "         'a': 10,\n",
       "         'uma': 9,\n",
       "         'python': 6,\n",
       "         'programação': 5,\n",
       "         'é': 4,\n",
       "         'com': 4,\n",
       "         'linguagem': 3,\n",
       "         'sua': 3,\n",
       "         'o': 3,\n",
       "         'que': 3,\n",
       "         'do': 3,\n",
       "         'orientada': 2,\n",
       "         'objetos': 2,\n",
       "         'funcional': 2,\n",
       "         'por': 2,\n",
       "         'em': 2,\n",
       "         'comunidade': 2,\n",
       "         'desenvolvimento': 2,\n",
       "         'como': 2,\n",
       "         'outras': 2,\n",
       "         'ser': 2,\n",
       "         'linguagens': 2,\n",
       "         'código': 2,\n",
       "         'mais': 2,\n",
       "         'alto': 1,\n",
       "         'nível': 1,\n",
       "         'interpretada': 1,\n",
       "         'script': 1,\n",
       "         'imperativa': 1,\n",
       "         'tipagem': 1,\n",
       "         'dinâmica': 1,\n",
       "         'forte': 1,\n",
       "         'foi': 1,\n",
       "         'lançada': 1,\n",
       "         'guido': 1,\n",
       "         'van': 1,\n",
       "         'rossum': 1,\n",
       "         '1991': 1,\n",
       "         'conhecida': 1,\n",
       "         'sintaxe': 1,\n",
       "         'clara': 1,\n",
       "         'legível': 1,\n",
       "         'torna': 1,\n",
       "         'excelente': 1,\n",
       "         'escolha': 1,\n",
       "         'para': 1,\n",
       "         'iniciantes': 1,\n",
       "         'profissionais': 1,\n",
       "         'suporta': 1,\n",
       "         'múltiplos': 1,\n",
       "         'paradigmas': 1,\n",
       "         'incluindo': 1,\n",
       "         'procedural': 1,\n",
       "         'além': 1,\n",
       "         'disso': 1,\n",
       "         'possui': 1,\n",
       "         'vasta': 1,\n",
       "         'biblioteca': 1,\n",
       "         'padrão': 1,\n",
       "         'ativa': 1,\n",
       "         'contribui': 1,\n",
       "         'infinidade': 1,\n",
       "         'pacotes': 1,\n",
       "         'módulos': 1,\n",
       "         'facilitando': 1,\n",
       "         'aplicações': 1,\n",
       "         'complexas': 1,\n",
       "         'amplamente': 1,\n",
       "         'utilizada': 1,\n",
       "         'diversas': 1,\n",
       "         'áreas': 1,\n",
       "         'web': 1,\n",
       "         'ciência': 1,\n",
       "         'dados': 1,\n",
       "         'inteligência': 1,\n",
       "         'artificial': 1,\n",
       "         'automação': 1,\n",
       "         'tarefas': 1,\n",
       "         'entre': 1,\n",
       "         'popularidade': 1,\n",
       "         'cresceu': 1,\n",
       "         'significativamente': 1,\n",
       "         'nos': 1,\n",
       "         'últimos': 1,\n",
       "         'anos': 1,\n",
       "         'devido': 1,\n",
       "         'à': 1,\n",
       "         'versatilidade': 1,\n",
       "         'facilidade': 1,\n",
       "         'uso': 1,\n",
       "         'compatível': 1,\n",
       "         'diferentes': 1,\n",
       "         'sistemas': 1,\n",
       "         'operacionais': 1,\n",
       "         'windows': 1,\n",
       "         'macos': 1,\n",
       "         'linux': 1,\n",
       "         'pode': 1,\n",
       "         'integrada': 1,\n",
       "         'filosofia': 1,\n",
       "         'enfatiza': 1,\n",
       "         'legibilidade': 1,\n",
       "         'simplicidade': 1,\n",
       "         'seguindo': 1,\n",
       "         'princípio': 1,\n",
       "         'há': 1,\n",
       "         'apenas': 1,\n",
       "         'maneira': 1,\n",
       "         'óbvia': 1,\n",
       "         'fazer': 1,\n",
       "         'algo': 1,\n",
       "         'isso': 1,\n",
       "         'ajuda': 1,\n",
       "         'os': 1,\n",
       "         'desenvolvedores': 1,\n",
       "         'escreverem': 1,\n",
       "         'limpo': 1,\n",
       "         'eficiente': 1,\n",
       "         'curva': 1,\n",
       "         'aprendizado': 1,\n",
       "         'suave': 1,\n",
       "         'acolhedora': 1,\n",
       "         'continua': 1,\n",
       "         'das': 1,\n",
       "         'populares': 1,\n",
       "         'influentes': 1,\n",
       "         'mundo': 1})"
      ]
     },
     "execution_count": 36,
     "metadata": {},
     "output_type": "execute_result"
    }
   ],
   "source": [
    "conta_palavras_com_counter(texto)"
   ]
  },
  {
   "cell_type": "markdown",
   "id": "60055475",
   "metadata": {},
   "source": [
    "## 7. Exercícios "
   ]
  },
  {
   "cell_type": "markdown",
   "id": "06e9712f",
   "metadata": {},
   "source": [
    "1. Crie uma lista de dicionários para armazenar informações de um contato (nome, telefone e e-mail) e adicione 3 contatos."
   ]
  },
  {
   "cell_type": "code",
   "execution_count": 37,
   "id": "904c9ecf",
   "metadata": {},
   "outputs": [],
   "source": [
    "# criando contato por contato e inserindo na lista de contatos via append\n",
    "contatos: list[dict] = []\n",
    "\n",
    "contato: dict[str, str] = {\n",
    "    \"nome\": \"João\",\n",
    "    \"telefone\": \"1234-5678\",\n",
    "    \"email\": \"joao@gmail.com\",\n",
    "}\n",
    "\n",
    "contatos.append(contato)\n",
    "\n",
    "contato = {\n",
    "    \"nome\": \"Maria\",\n",
    "    \"telefone\": \"9876-5432\",\n",
    "    \"email\": \"maria@gmail.com\",\n",
    "}\n",
    "\n",
    "contatos.append(contato)\n",
    "\n",
    "contato = {\n",
    "    \"nome\": \"José\",\n",
    "    \"telefone\": \"4567-8901\",\n",
    "    \"email\": \"jose@gmail.com\",\n",
    "}\n",
    "contatos.append(contato)"
   ]
  },
  {
   "cell_type": "code",
   "execution_count": 38,
   "id": "af01d649",
   "metadata": {},
   "outputs": [],
   "source": [
    "# criando todos os contatos de uma vez dentro da lista de contatos\n",
    "contatos = [\n",
    "    {\n",
    "        \"nome\": \"João\",\n",
    "        \"telefone\": \"1234-5678\",\n",
    "        \"email\": \"joao@gmail.com\",\n",
    "    },\n",
    "    {\n",
    "        \"nome\": \"Maria\",\n",
    "        \"telefone\": \"9876-5432\",\n",
    "        \"email\": \"maria@gmail.com\",\n",
    "    },\n",
    "    {\n",
    "        \"nome\": \"José\",\n",
    "        \"telefone\": \"4567-8901\",\n",
    "        \"email\": \"jose@gmail.com\",\n",
    "    },\n",
    "]"
   ]
  },
  {
   "cell_type": "code",
   "execution_count": 39,
   "id": "efc4f28e",
   "metadata": {},
   "outputs": [
    {
     "data": {
      "text/plain": [
       "[{'nome': 'João', 'telefone': '1234-5678', 'email': 'joao@gmail.com'},\n",
       " {'nome': 'Maria', 'telefone': '9876-5432', 'email': 'maria@gmail.com'},\n",
       " {'nome': 'José', 'telefone': '4567-8901', 'email': 'jose@gmail.com'}]"
      ]
     },
     "execution_count": 39,
     "metadata": {},
     "output_type": "execute_result"
    }
   ],
   "source": [
    "# acessando todos os contatos\n",
    "contatos"
   ]
  },
  {
   "cell_type": "code",
   "execution_count": 40,
   "id": "48cc4557",
   "metadata": {},
   "outputs": [
    {
     "data": {
      "text/plain": [
       "{'nome': 'João', 'telefone': '1234-5678', 'email': 'joao@gmail.com'}"
      ]
     },
     "execution_count": 40,
     "metadata": {},
     "output_type": "execute_result"
    }
   ],
   "source": [
    "# acessando o primeiro contato\n",
    "contatos[0]"
   ]
  },
  {
   "cell_type": "code",
   "execution_count": 41,
   "id": "f92fff2a",
   "metadata": {},
   "outputs": [
    {
     "data": {
      "text/plain": [
       "{'nome': 'José', 'telefone': '4567-8901', 'email': 'jose@gmail.com'}"
      ]
     },
     "execution_count": 41,
     "metadata": {},
     "output_type": "execute_result"
    }
   ],
   "source": [
    "# acessando o último contato\n",
    "contatos[-1]"
   ]
  },
  {
   "cell_type": "code",
   "execution_count": 42,
   "id": "1261eece",
   "metadata": {},
   "outputs": [
    {
     "data": {
      "text/plain": [
       "[{'nome': 'João', 'telefone': '1234-5678', 'email': 'joao@gmail.com'},\n",
       " {'nome': 'Maria', 'telefone': '9876-5432', 'email': 'maria@gmail.com'}]"
      ]
     },
     "execution_count": 42,
     "metadata": {},
     "output_type": "execute_result"
    }
   ],
   "source": [
    "# acessando os dois primeiros contatos\n",
    "contatos[:2]"
   ]
  },
  {
   "cell_type": "code",
   "execution_count": 43,
   "id": "67d3c9d1",
   "metadata": {},
   "outputs": [
    {
     "data": {
      "text/plain": [
       "'João'"
      ]
     },
     "execution_count": 43,
     "metadata": {},
     "output_type": "execute_result"
    }
   ],
   "source": [
    "# acessando o nome do primeiro contato\n",
    "contatos[0][\"nome\"]"
   ]
  },
  {
   "cell_type": "markdown",
   "id": "d1832838",
   "metadata": {},
   "source": [
    "2. Crie um dicionário para armazenar a frequência de caracteres numéricos em uma frase."
   ]
  },
  {
   "cell_type": "code",
   "execution_count": 44,
   "id": "7269e076",
   "metadata": {},
   "outputs": [],
   "source": [
    "texto = \"\"\"\n",
    "Python é uma linguagem de programação de alto nível, interpretada, de script, imperativa, orientada a objetos, funcional, de tipagem dinâmica e forte. Foi lançada por Guido van Rossum em 1991. Python é conhecida por sua sintaxe clara e legível, o que a torna uma excelente escolha para iniciantes e profissionais. A linguagem suporta múltiplos paradigmas de programação, incluindo programação procedural, orientada a objetos e funcional. Além disso, Python possui uma vasta biblioteca padrão e uma comunidade ativa que contribui com uma infinidade de pacotes e módulos, facilitando o desenvolvimento de aplicações complexas.\n",
    "\"\"\"\n",
    "\n",
    "n = len(texto)  # número de caracteres no texto\n",
    "\n",
    "\n",
    "def limpa_texto(texto: str) -> str:\n",
    "    return \"\".join(letra if letra.isalnum() else \"\" for letra in texto)\n",
    "\n",
    "\n",
    "def conta_caracteres(texto: str) -> dict[str, int]:\n",
    "    texto_limpo = limpa_texto(texto.lower())\n",
    "    count = defaultdict(int)\n",
    "    total_valid_chars = 0\n",
    "    for letra in texto_limpo:\n",
    "        count[letra] += 1\n",
    "        total_valid_chars += 1\n",
    "    count[\"especiais\"] = n - total_valid_chars\n",
    "    return count\n",
    "\n",
    "\n",
    "def count_dict_to_freq_dict(count: dict[str, int], n: int) -> dict[str, float]:\n",
    "    # for key, value in count.items():\n",
    "    #     count[key] = round(100 * value / n, 2)\n",
    "    # return count\n",
    "    return {key: round(100 * value / n, 2) for key, value in count.items()}\n",
    "\n",
    "\n",
    "contagem_de_caracteres = conta_caracteres(texto)\n",
    "frequencia_de_caracteres = count_dict_to_freq_dict(contagem_de_caracteres, n)"
   ]
  },
  {
   "cell_type": "code",
   "execution_count": 45,
   "id": "c2c9bb5a",
   "metadata": {},
   "outputs": [
    {
     "data": {
      "text/plain": [
       "{'p': 3.67,\n",
       " 'y': 0.48,\n",
       " 't': 4.31,\n",
       " 'h': 0.8,\n",
       " 'o': 7.67,\n",
       " 'n': 5.11,\n",
       " 'é': 0.48,\n",
       " 'u': 3.35,\n",
       " 'm': 3.67,\n",
       " 'a': 10.38,\n",
       " 'l': 3.67,\n",
       " 'i': 6.71,\n",
       " 'g': 1.76,\n",
       " 'e': 7.67,\n",
       " 'd': 4.15,\n",
       " 'r': 4.15,\n",
       " 'ç': 0.8,\n",
       " 'ã': 0.64,\n",
       " 'í': 0.32,\n",
       " 'v': 1.28,\n",
       " 's': 3.99,\n",
       " 'c': 3.19,\n",
       " 'b': 0.8,\n",
       " 'j': 0.32,\n",
       " 'f': 1.12,\n",
       " 'â': 0.16,\n",
       " '1': 0.32,\n",
       " '9': 0.32,\n",
       " 'x': 0.48,\n",
       " 'q': 0.32,\n",
       " 'ú': 0.16,\n",
       " 'ó': 0.16,\n",
       " 'õ': 0.16,\n",
       " 'especiais': 17.41}"
      ]
     },
     "execution_count": 45,
     "metadata": {},
     "output_type": "execute_result"
    }
   ],
   "source": [
    "frequencia_de_caracteres"
   ]
  },
  {
   "cell_type": "code",
   "execution_count": 46,
   "id": "d11a4bcb",
   "metadata": {},
   "outputs": [
    {
     "data": {
      "text/plain": [
       "especiais    17.41\n",
       "a            10.38\n",
       "e             7.67\n",
       "o             7.67\n",
       "i             6.71\n",
       "dtype: float64"
      ]
     },
     "execution_count": 46,
     "metadata": {},
     "output_type": "execute_result"
    }
   ],
   "source": [
    "import matplotlib.pyplot as plt\n",
    "import matplotlib.ticker as mtick\n",
    "import pandas as pd\n",
    "import seaborn as sns\n",
    "\n",
    "sns.set_style()\n",
    "\n",
    "s = pd.Series(frequencia_de_caracteres).sort_values(ascending=False)\n",
    "s.head()"
   ]
  },
  {
   "cell_type": "code",
   "execution_count": 47,
   "id": "b4ae2592",
   "metadata": {},
   "outputs": [
    {
     "data": {
      "image/png": "[encoded data removed]",
      "text/plain": [
       "<Figure size 1200x600 with 1 Axes>"
      ]
     },
     "metadata": {},
     "output_type": "display_data"
    }
   ],
   "source": [
    "fig, ax = plt.subplots(figsize=(12, 6))\n",
    "s.plot(kind=\"bar\", ax=ax)\n",
    "ax.set_title(\"Frequência de caracteres no texto\")\n",
    "ax.yaxis.set_major_formatter(mtick.PercentFormatter())"
   ]
  }
 ],
 "metadata": {
  "kernelspec": {
   "display_name": ".venv",
   "language": "python",
   "name": "python3"
  },
  "language_info": {
   "codemirror_mode": {
    "name": "ipython",
    "version": 3
   },
   "file_extension": ".py",
   "mimetype": "text/x-python",
   "name": "python",
   "nbconvert_exporter": "python",
   "pygments_lexer": "ipython3",
   "version": "3.11.9"
  }
 },
 "nbformat": 4,
 "nbformat_minor": 5
}
